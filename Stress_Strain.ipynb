{
  "nbformat": 4,
  "nbformat_minor": 0,
  "metadata": {
    "colab": {
      "provenance": [],
      "authorship_tag": "ABX9TyPjQmIyU6yskl3BNpkC6EIB",
      "include_colab_link": true
    },
    "kernelspec": {
      "name": "python3",
      "display_name": "Python 3"
    },
    "language_info": {
      "name": "python"
    }
  },
  "cells": [
    {
      "cell_type": "markdown",
      "metadata": {
        "id": "view-in-github",
        "colab_type": "text"
      },
      "source": [
        "<a href=\"https://colab.research.google.com/github/sachinprasanna7/Machine_Learning/blob/main/Stress_Strain.ipynb\" target=\"_parent\"><img src=\"https://colab.research.google.com/assets/colab-badge.svg\" alt=\"Open In Colab\"/></a>"
      ]
    },
    {
      "cell_type": "code",
      "execution_count": 28,
      "metadata": {
        "id": "6CUWQmUohcgC"
      },
      "outputs": [],
      "source": [
        "import pandas as pd\n",
        "import matplotlib.pyplot as plt\n",
        "import numpy as np"
      ]
    },
    {
      "cell_type": "code",
      "source": [
        "df = pd.read_csv(\"ACHIFINAL.csv\")"
      ],
      "metadata": {
        "id": "RE--FXvGkkK7"
      },
      "execution_count": 17,
      "outputs": []
    },
    {
      "cell_type": "code",
      "source": [
        "x = df['Strain']\n",
        "y = df['Stress(N/mm2)']"
      ],
      "metadata": {
        "id": "oQrU8908ngGB"
      },
      "execution_count": 25,
      "outputs": []
    },
    {
      "cell_type": "code",
      "source": [
        "plt.xlabel(\"Strain\")\n",
        "plt.ylabel(\"Stress(N/mm2)\")\n",
        "\n",
        "# Set the limits of the x and y axes\n",
        "plt.xlim(0, 1)\n",
        "plt.ylim(0, 120)\n",
        "\n",
        "# Show the plot\n",
        "\n",
        "# Two data points taken with Elastic Limit\n",
        "\n",
        "x_points = []\n",
        "y_points = []\n",
        "\n",
        "for value in df['Strain']:\n",
        "  if(value < 0.2504006):\n",
        "    x_points.append(value)\n",
        "  else:\n",
        "    break\n",
        "  \n",
        "for value1 in df['Stress(N/mm2)']:\n",
        "  if(value1 < 83.06578):\n",
        "    y_points.append(value1)\n",
        "  else:\n",
        "    break\n",
        "\n",
        "# Fit a first-degree polynomial (a line) to the data points\n",
        "coefficients = np.polyfit(x_points, y_points, 1)\n",
        "\n",
        "# The slope of the line is the first coefficient\n",
        "slope = coefficients[0]\n",
        "\n",
        "point = (0.2, 0)\n",
        "\n",
        "# Generate a set of x-values\n",
        "x1 = np.linspace(0, 5, 100)\n",
        "\n",
        "# Compute the corresponding y-values using the slope and the point\n",
        "y1 = slope * (x1 - point[0]) + point[1]\n",
        "\n",
        "plt.plot(x1, y1)\n",
        "plt.plot(x, y)\n",
        "\n",
        "# # Find the x-coordinate of the intersection point\n",
        "# x_intersection = np.interp(0, y-y1, x)\n",
        "\n",
        "# # Find the y-coordinate of the intersection point\n",
        "# y_intersection = np.interp(x_intersection, x, y)\n",
        "\n",
        "# print(x_intersection)  # Output: 3.5\n",
        "# print(y_intersection)  # Output: 3.5\n",
        "\n",
        "\n",
        "plt.show()"
      ],
      "metadata": {
        "colab": {
          "base_uri": "https://localhost:8080/",
          "height": 283
        },
        "id": "j3AxpbLDqtgo",
        "outputId": "79d03fde-9711-4257-e063-b86632ababaf"
      },
      "execution_count": 44,
      "outputs": [
        {
          "output_type": "display_data",
          "data": {
            "text/plain": [
              "<Figure size 432x288 with 1 Axes>"
            ],
            "image/png": "[encoded data removed]"
          },
          "metadata": {
            "needs_background": "light"
          }
        }
      ]
    },
    {
      "cell_type": "code",
      "source": [],
      "metadata": {
        "id": "TuC5Ijn6tvRg"
      },
      "execution_count": null,
      "outputs": []
    }
  ]
}